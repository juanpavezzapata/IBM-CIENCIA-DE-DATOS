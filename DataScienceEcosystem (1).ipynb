{
 "cells": [
  {
   "cell_type": "markdown",
   "id": "ae1d7ac6",
   "metadata": {},
   "source": [
    "# Herramientas y Ecosistema de ciencia de datos\n",
    "# Su compañero Juan Pavez"
   ]
  },
  {
   "cell_type": "markdown",
   "id": "23acc580",
   "metadata": {},
   "source": [
    "\n",
    "En este cuaderno estan resumidas  las herramientas y el ecosistema de Ciencia de Datos."
   ]
  },
  {
   "cell_type": "markdown",
   "id": "a1558e90",
   "metadata": {},
   "source": [
    "Algunos de los lenguajes populares que utilizan los científicos de datos son:\n",
    "1. Python\n",
    "2. R\n",
    "3. SQL\n"
   ]
  },
  {
   "cell_type": "markdown",
   "id": "1912cb61",
   "metadata": {},
   "source": [
    "Algunas de las bibliotecas comúnmente utilizadas por los científicos de datos incluyen:\n",
    "1. NumPy\n",
    "2. Pandas\n",
    "3. Matplotlib"
   ]
  },
  {
   "cell_type": "markdown",
   "id": "733cf212",
   "metadata": {},
   "source": [
    "| Data Science Tools |\n",
    "|--------------------|\n",
    "| Jupyter Notebook    |\n",
    "| RStudio             |\n",
    "| Apache Zeppelin     |\n"
   ]
  },
  {
   "cell_type": "markdown",
   "id": "0c2c2fcb",
   "metadata": {},
   "source": [
    "### A continuación se muestran algunos ejemplos de evaluación de expresiones aritméticas en Pyhton/n"
   ]
  },
  {
   "cell_type": "code",
   "execution_count": 1,
   "id": "3785152c",
   "metadata": {},
   "outputs": [
    {
     "data": {
      "text/plain": [
       "17"
      ]
     },
     "execution_count": 1,
     "metadata": {},
     "output_type": "execute_result"
    }
   ],
   "source": [
    "# Esta es una expresión aritmética simple para multiplicar y luego sumar números enteros.\n",
    "(3*4)+5\n"
   ]
  },
  {
   "cell_type": "code",
   "execution_count": 2,
   "id": "c21e593b",
   "metadata": {},
   "outputs": [
    {
     "data": {
      "text/plain": [
       "3.3333333333333335"
      ]
     },
     "execution_count": 2,
     "metadata": {},
     "output_type": "execute_result"
    }
   ],
   "source": [
    "# Esto convertirá 200 minutos a horas dividiendo por 60.\n",
    "200 / 60"
   ]
  },
  {
   "cell_type": "markdown",
   "id": "01b42b4d",
   "metadata": {},
   "source": [
    "**Objetivos:**\n",
    "- Listar idiomas populares para ciencia de datos.\n",
    "- Enumerar bibliotecas comunes utilizadas por los científicos de datos.\n",
    "- Mostrar ejemplos de operaciones aritméticas básicas en Python."
   ]
  },
  {
   "cell_type": "markdown",
   "id": "00a6f967",
   "metadata": {},
   "source": [
    "## Author\n",
    "Juan Francisco Pavez Zapata"
   ]
  },
  {
   "cell_type": "code",
   "execution_count": null,
   "id": "abbc3d38",
   "metadata": {},
   "outputs": [],
   "source": []
  }
 ],
 "metadata": {
  "kernelspec": {
   "display_name": "Python 3 (ipykernel)",
   "language": "python",
   "name": "python3"
  },
  "language_info": {
   "codemirror_mode": {
    "name": "ipython",
    "version": 3
   },
   "file_extension": ".py",
   "mimetype": "text/x-python",
   "name": "python",
   "nbconvert_exporter": "python",
   "pygments_lexer": "ipython3",
   "version": "3.11.9"
  }
 },
 "nbformat": 4,
 "nbformat_minor": 5
}
